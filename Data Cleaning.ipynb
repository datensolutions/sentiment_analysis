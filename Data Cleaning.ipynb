{
 "cells": [
  {
   "cell_type": "code",
   "execution_count": 68,
   "metadata": {},
   "outputs": [],
   "source": [
    "import pandas as pd\n",
    "import numpy as np\n",
    "import demoji\n",
    "import nltk\n",
    "from nltk.corpus import stopwords\n",
    "from nltk.classify import SklearnClassifier\n",
    "\n",
    "from wordcloud import WordCloud,STOPWORDS\n",
    "import matplotlib.pyplot as plt\n",
    "import re\n",
    "import string\n",
    "%matplotlib inline"
   ]
  },
  {
   "cell_type": "code",
   "execution_count": 69,
   "metadata": {
    "scrolled": true
   },
   "outputs": [
    {
     "data": {
      "text/html": [
       "<div>\n",
       "<style scoped>\n",
       "    .dataframe tbody tr th:only-of-type {\n",
       "        vertical-align: middle;\n",
       "    }\n",
       "\n",
       "    .dataframe tbody tr th {\n",
       "        vertical-align: top;\n",
       "    }\n",
       "\n",
       "    .dataframe thead th {\n",
       "        text-align: right;\n",
       "    }\n",
       "</style>\n",
       "<table border=\"1\" class=\"dataframe\">\n",
       "  <thead>\n",
       "    <tr style=\"text-align: right;\">\n",
       "      <th></th>\n",
       "      <th>Channel</th>\n",
       "      <th>Video Title</th>\n",
       "      <th>Video Description</th>\n",
       "      <th>Video ID</th>\n",
       "      <th>Comment</th>\n",
       "      <th>Comment ID</th>\n",
       "      <th>Replies</th>\n",
       "      <th>Likes</th>\n",
       "    </tr>\n",
       "  </thead>\n",
       "  <tbody>\n",
       "    <tr>\n",
       "      <th>0</th>\n",
       "      <td>GameSpot</td>\n",
       "      <td>FULL Microsoft Xbox E3 2019 Press Conference</td>\n",
       "      <td>Tune in to catch Phil Spencer and the Microsof...</td>\n",
       "      <td>73kSvsQ_kkA</td>\n",
       "      <td>1:17 Outer Worlds (Gameplay Trailer )\\n5:08 Bl...</td>\n",
       "      <td>UgyolGA3btmyXsv1yPF4AaABAg</td>\n",
       "      <td>45</td>\n",
       "      <td>1186</td>\n",
       "    </tr>\n",
       "    <tr>\n",
       "      <th>1</th>\n",
       "      <td>GameSpot</td>\n",
       "      <td>FULL Microsoft Xbox E3 2019 Press Conference</td>\n",
       "      <td>Tune in to catch Phil Spencer and the Microsof...</td>\n",
       "      <td>73kSvsQ_kkA</td>\n",
       "      <td>John Wick survives all the way to 2077. Legit.</td>\n",
       "      <td>UgyI1VT_X38sdK5WxH94AaABAg</td>\n",
       "      <td>13</td>\n",
       "      <td>1599</td>\n",
       "    </tr>\n",
       "    <tr>\n",
       "      <th>2</th>\n",
       "      <td>GameSpot</td>\n",
       "      <td>FULL Microsoft Xbox E3 2019 Press Conference</td>\n",
       "      <td>Tune in to catch Phil Spencer and the Microsof...</td>\n",
       "      <td>73kSvsQ_kkA</td>\n",
       "      <td>so basically we should look forward to 2020</td>\n",
       "      <td>Ugz9XWu6VeIopjZvM7h4AaABAg</td>\n",
       "      <td>39</td>\n",
       "      <td>864</td>\n",
       "    </tr>\n",
       "    <tr>\n",
       "      <th>3</th>\n",
       "      <td>GameSpot</td>\n",
       "      <td>FULL Microsoft Xbox E3 2019 Press Conference</td>\n",
       "      <td>Tune in to catch Phil Spencer and the Microsof...</td>\n",
       "      <td>73kSvsQ_kkA</td>\n",
       "      <td>Yet again, Cyberpunk stole the show!</td>\n",
       "      <td>UgzcLn8Q_NaPDOgESnV4AaABAg</td>\n",
       "      <td>45</td>\n",
       "      <td>916</td>\n",
       "    </tr>\n",
       "    <tr>\n",
       "      <th>4</th>\n",
       "      <td>GameSpot</td>\n",
       "      <td>FULL Microsoft Xbox E3 2019 Press Conference</td>\n",
       "      <td>Tune in to catch Phil Spencer and the Microsof...</td>\n",
       "      <td>73kSvsQ_kkA</td>\n",
       "      <td>By 2077 Keanu would be over 110 years old and ...</td>\n",
       "      <td>UgyY2EO51cu41wWCG0V4AaABAg</td>\n",
       "      <td>8</td>\n",
       "      <td>662</td>\n",
       "    </tr>\n",
       "  </tbody>\n",
       "</table>\n",
       "</div>"
      ],
      "text/plain": [
       "    Channel                                   Video Title  \\\n",
       "0  GameSpot  FULL Microsoft Xbox E3 2019 Press Conference   \n",
       "1  GameSpot  FULL Microsoft Xbox E3 2019 Press Conference   \n",
       "2  GameSpot  FULL Microsoft Xbox E3 2019 Press Conference   \n",
       "3  GameSpot  FULL Microsoft Xbox E3 2019 Press Conference   \n",
       "4  GameSpot  FULL Microsoft Xbox E3 2019 Press Conference   \n",
       "\n",
       "                                   Video Description     Video ID  \\\n",
       "0  Tune in to catch Phil Spencer and the Microsof...  73kSvsQ_kkA   \n",
       "1  Tune in to catch Phil Spencer and the Microsof...  73kSvsQ_kkA   \n",
       "2  Tune in to catch Phil Spencer and the Microsof...  73kSvsQ_kkA   \n",
       "3  Tune in to catch Phil Spencer and the Microsof...  73kSvsQ_kkA   \n",
       "4  Tune in to catch Phil Spencer and the Microsof...  73kSvsQ_kkA   \n",
       "\n",
       "                                             Comment  \\\n",
       "0  1:17 Outer Worlds (Gameplay Trailer )\\n5:08 Bl...   \n",
       "1     John Wick survives all the way to 2077. Legit.   \n",
       "2        so basically we should look forward to 2020   \n",
       "3               Yet again, Cyberpunk stole the show!   \n",
       "4  By 2077 Keanu would be over 110 years old and ...   \n",
       "\n",
       "                   Comment ID  Replies  Likes  \n",
       "0  UgyolGA3btmyXsv1yPF4AaABAg       45   1186  \n",
       "1  UgyI1VT_X38sdK5WxH94AaABAg       13   1599  \n",
       "2  Ugz9XWu6VeIopjZvM7h4AaABAg       39    864  \n",
       "3  UgzcLn8Q_NaPDOgESnV4AaABAg       45    916  \n",
       "4  UgyY2EO51cu41wWCG0V4AaABAg        8    662  "
      ]
     },
     "execution_count": 69,
     "metadata": {},
     "output_type": "execute_result"
    }
   ],
   "source": [
    "df = pd.read_csv('data.csv')\n",
    "df.head()"
   ]
  },
  {
   "cell_type": "code",
   "execution_count": 70,
   "metadata": {},
   "outputs": [],
   "source": [
    "df = df[['Comment ID', 'Comment', 'Replies', 'Likes']]"
   ]
  },
  {
   "cell_type": "markdown",
   "metadata": {},
   "source": [
    "### Data Cleaning"
   ]
  },
  {
   "cell_type": "code",
   "execution_count": 71,
   "metadata": {},
   "outputs": [
    {
     "name": "stdout",
     "output_type": "stream",
     "text": [
      "Downloading emoji data ...\n",
      "... OK (Got response in 0.17 seconds)\n",
      "Writing emoji data to /Users/himanshumishra/.demoji/codes.json ...\n",
      "... OK\n"
     ]
    }
   ],
   "source": [
    "demoji.download_codes()"
   ]
  },
  {
   "cell_type": "code",
   "execution_count": 72,
   "metadata": {},
   "outputs": [],
   "source": [
    "def cleannames(string):\n",
    "    string = demoji.replace(string, \"\") # remove emoji\n",
    "    string = string.lower()\n",
    "    string = string.replace('&', 'and')\n",
    "    string = string.replace(',', ' ')\n",
    "    string = string.replace('-', ' ')\n",
    "    string = re.sub('[,\\.!?]',' ', string ) # removing special characters\n",
    "    return string"
   ]
  },
  {
   "cell_type": "code",
   "execution_count": 73,
   "metadata": {},
   "outputs": [],
   "source": [
    "df['Cleaned_Comment'] = df['Comment'].apply(cleannames)"
   ]
  },
  {
   "cell_type": "code",
   "execution_count": 74,
   "metadata": {},
   "outputs": [],
   "source": [
    "def remove_punc(text):\n",
    "    text_nonpunct = ''.join([char for char in text if char not in string.punctuation]) \n",
    "    return text_nonpunct"
   ]
  },
  {
   "cell_type": "code",
   "execution_count": 75,
   "metadata": {},
   "outputs": [],
   "source": [
    "df['Cleaned_Comment'] = df['Comment'].apply(remove_punc)"
   ]
  },
  {
   "cell_type": "code",
   "execution_count": 11,
   "metadata": {},
   "outputs": [],
   "source": [
    "from nltk.corpus import stopwords\n",
    "stopwords = stopwords.words('english')\n",
    "def remove_stopwords(tokenized_list):\n",
    "    text = [word for word in tokenized_list if word not in stopwords]\n",
    "    return text\n",
    "\n",
    "df['Cleaned_Comment'] = df['Cleaned_Comment'].apply(lambda x: remove_stopwords(x))"
   ]
  },
  {
   "cell_type": "code",
   "execution_count": 37,
   "metadata": {},
   "outputs": [
    {
     "data": {
      "text/html": [
       "<div>\n",
       "<style scoped>\n",
       "    .dataframe tbody tr th:only-of-type {\n",
       "        vertical-align: middle;\n",
       "    }\n",
       "\n",
       "    .dataframe tbody tr th {\n",
       "        vertical-align: top;\n",
       "    }\n",
       "\n",
       "    .dataframe thead th {\n",
       "        text-align: right;\n",
       "    }\n",
       "</style>\n",
       "<table border=\"1\" class=\"dataframe\">\n",
       "  <thead>\n",
       "    <tr style=\"text-align: right;\">\n",
       "      <th></th>\n",
       "      <th>Comment ID</th>\n",
       "      <th>Comment</th>\n",
       "      <th>Replies</th>\n",
       "      <th>Likes</th>\n",
       "      <th>Cleaned_Comment</th>\n",
       "    </tr>\n",
       "  </thead>\n",
       "  <tbody>\n",
       "    <tr>\n",
       "      <th>0</th>\n",
       "      <td>UgyolGA3btmyXsv1yPF4AaABAg</td>\n",
       "      <td>1:17 Outer Worlds (Gameplay Trailer )\\n5:08 Bl...</td>\n",
       "      <td>45</td>\n",
       "      <td>1186</td>\n",
       "      <td>117 Outer Worlds Gameplay Trailer \\n508 Bleedi...</td>\n",
       "    </tr>\n",
       "    <tr>\n",
       "      <th>1</th>\n",
       "      <td>UgyI1VT_X38sdK5WxH94AaABAg</td>\n",
       "      <td>John Wick survives all the way to 2077. Legit.</td>\n",
       "      <td>13</td>\n",
       "      <td>1599</td>\n",
       "      <td>John Wick survives all the way to 2077 Legit</td>\n",
       "    </tr>\n",
       "    <tr>\n",
       "      <th>2</th>\n",
       "      <td>Ugz9XWu6VeIopjZvM7h4AaABAg</td>\n",
       "      <td>so basically we should look forward to 2020</td>\n",
       "      <td>39</td>\n",
       "      <td>864</td>\n",
       "      <td>so basically we should look forward to 2020</td>\n",
       "    </tr>\n",
       "    <tr>\n",
       "      <th>3</th>\n",
       "      <td>UgzcLn8Q_NaPDOgESnV4AaABAg</td>\n",
       "      <td>Yet again, Cyberpunk stole the show!</td>\n",
       "      <td>45</td>\n",
       "      <td>916</td>\n",
       "      <td>Yet again Cyberpunk stole the show</td>\n",
       "    </tr>\n",
       "    <tr>\n",
       "      <th>4</th>\n",
       "      <td>UgyY2EO51cu41wWCG0V4AaABAg</td>\n",
       "      <td>By 2077 Keanu would be over 110 years old and ...</td>\n",
       "      <td>8</td>\n",
       "      <td>662</td>\n",
       "      <td>By 2077 Keanu would be over 110 years old and ...</td>\n",
       "    </tr>\n",
       "  </tbody>\n",
       "</table>\n",
       "</div>"
      ],
      "text/plain": [
       "                   Comment ID  \\\n",
       "0  UgyolGA3btmyXsv1yPF4AaABAg   \n",
       "1  UgyI1VT_X38sdK5WxH94AaABAg   \n",
       "2  Ugz9XWu6VeIopjZvM7h4AaABAg   \n",
       "3  UgzcLn8Q_NaPDOgESnV4AaABAg   \n",
       "4  UgyY2EO51cu41wWCG0V4AaABAg   \n",
       "\n",
       "                                             Comment  Replies  Likes  \\\n",
       "0  1:17 Outer Worlds (Gameplay Trailer )\\n5:08 Bl...       45   1186   \n",
       "1     John Wick survives all the way to 2077. Legit.       13   1599   \n",
       "2        so basically we should look forward to 2020       39    864   \n",
       "3               Yet again, Cyberpunk stole the show!       45    916   \n",
       "4  By 2077 Keanu would be over 110 years old and ...        8    662   \n",
       "\n",
       "                                     Cleaned_Comment  \n",
       "0  117 Outer Worlds Gameplay Trailer \\n508 Bleedi...  \n",
       "1       John Wick survives all the way to 2077 Legit  \n",
       "2        so basically we should look forward to 2020  \n",
       "3                 Yet again Cyberpunk stole the show  \n",
       "4  By 2077 Keanu would be over 110 years old and ...  "
      ]
     },
     "execution_count": 37,
     "metadata": {},
     "output_type": "execute_result"
    }
   ],
   "source": [
    "df.head()"
   ]
  },
  {
   "cell_type": "markdown",
   "metadata": {},
   "source": [
    "### Language Detection"
   ]
  },
  {
   "cell_type": "code",
   "execution_count": 76,
   "metadata": {},
   "outputs": [],
   "source": [
    "from langdetect import detect\n",
    "df['Language'] = 0"
   ]
  },
  {
   "cell_type": "code",
   "execution_count": 77,
   "metadata": {},
   "outputs": [
    {
     "name": "stderr",
     "output_type": "stream",
     "text": [
      "/Applications/anaconda3/envs/deeplearning/lib/python3.6/site-packages/pandas/core/indexing.py:670: SettingWithCopyWarning: \n",
      "A value is trying to be set on a copy of a slice from a DataFrame\n",
      "\n",
      "See the caveats in the documentation: https://pandas.pydata.org/pandas-docs/stable/user_guide/indexing.html#returning-a-view-versus-a-copy\n",
      "  iloc._setitem_with_indexer(indexer, value)\n"
     ]
    }
   ],
   "source": [
    "count = 0\n",
    "for i in range(0,len(df)):\n",
    "    temp = df['Cleaned_Comment'].loc[i]\n",
    "    count +=1\n",
    "    try:\n",
    "        df['Language'].loc[i] = detect(temp)\n",
    "    except:\n",
    "        df['Language'].loc[i] = 'error'"
   ]
  },
  {
   "cell_type": "code",
   "execution_count": 78,
   "metadata": {},
   "outputs": [
    {
     "name": "stdout",
     "output_type": "stream",
     "text": [
      "(885, 6)\n"
     ]
    },
    {
     "data": {
      "text/html": [
       "<div>\n",
       "<style scoped>\n",
       "    .dataframe tbody tr th:only-of-type {\n",
       "        vertical-align: middle;\n",
       "    }\n",
       "\n",
       "    .dataframe tbody tr th {\n",
       "        vertical-align: top;\n",
       "    }\n",
       "\n",
       "    .dataframe thead th {\n",
       "        text-align: right;\n",
       "    }\n",
       "</style>\n",
       "<table border=\"1\" class=\"dataframe\">\n",
       "  <thead>\n",
       "    <tr style=\"text-align: right;\">\n",
       "      <th></th>\n",
       "      <th>Comment ID</th>\n",
       "      <th>Comment</th>\n",
       "      <th>Replies</th>\n",
       "      <th>Likes</th>\n",
       "      <th>Cleaned_Comment</th>\n",
       "      <th>Language</th>\n",
       "    </tr>\n",
       "  </thead>\n",
       "  <tbody>\n",
       "    <tr>\n",
       "      <th>0</th>\n",
       "      <td>UgyolGA3btmyXsv1yPF4AaABAg</td>\n",
       "      <td>1:17 Outer Worlds (Gameplay Trailer )\\n5:08 Bl...</td>\n",
       "      <td>45</td>\n",
       "      <td>1186</td>\n",
       "      <td>117 Outer Worlds Gameplay Trailer \\n508 Bleedi...</td>\n",
       "      <td>en</td>\n",
       "    </tr>\n",
       "    <tr>\n",
       "      <th>1</th>\n",
       "      <td>UgyI1VT_X38sdK5WxH94AaABAg</td>\n",
       "      <td>John Wick survives all the way to 2077. Legit.</td>\n",
       "      <td>13</td>\n",
       "      <td>1599</td>\n",
       "      <td>John Wick survives all the way to 2077 Legit</td>\n",
       "      <td>en</td>\n",
       "    </tr>\n",
       "    <tr>\n",
       "      <th>2</th>\n",
       "      <td>Ugz9XWu6VeIopjZvM7h4AaABAg</td>\n",
       "      <td>so basically we should look forward to 2020</td>\n",
       "      <td>39</td>\n",
       "      <td>864</td>\n",
       "      <td>so basically we should look forward to 2020</td>\n",
       "      <td>en</td>\n",
       "    </tr>\n",
       "    <tr>\n",
       "      <th>3</th>\n",
       "      <td>UgzcLn8Q_NaPDOgESnV4AaABAg</td>\n",
       "      <td>Yet again, Cyberpunk stole the show!</td>\n",
       "      <td>45</td>\n",
       "      <td>916</td>\n",
       "      <td>Yet again Cyberpunk stole the show</td>\n",
       "      <td>en</td>\n",
       "    </tr>\n",
       "    <tr>\n",
       "      <th>4</th>\n",
       "      <td>UgyY2EO51cu41wWCG0V4AaABAg</td>\n",
       "      <td>By 2077 Keanu would be over 110 years old and ...</td>\n",
       "      <td>8</td>\n",
       "      <td>662</td>\n",
       "      <td>By 2077 Keanu would be over 110 years old and ...</td>\n",
       "      <td>en</td>\n",
       "    </tr>\n",
       "  </tbody>\n",
       "</table>\n",
       "</div>"
      ],
      "text/plain": [
       "                   Comment ID  \\\n",
       "0  UgyolGA3btmyXsv1yPF4AaABAg   \n",
       "1  UgyI1VT_X38sdK5WxH94AaABAg   \n",
       "2  Ugz9XWu6VeIopjZvM7h4AaABAg   \n",
       "3  UgzcLn8Q_NaPDOgESnV4AaABAg   \n",
       "4  UgyY2EO51cu41wWCG0V4AaABAg   \n",
       "\n",
       "                                             Comment  Replies  Likes  \\\n",
       "0  1:17 Outer Worlds (Gameplay Trailer )\\n5:08 Bl...       45   1186   \n",
       "1     John Wick survives all the way to 2077. Legit.       13   1599   \n",
       "2        so basically we should look forward to 2020       39    864   \n",
       "3               Yet again, Cyberpunk stole the show!       45    916   \n",
       "4  By 2077 Keanu would be over 110 years old and ...        8    662   \n",
       "\n",
       "                                     Cleaned_Comment Language  \n",
       "0  117 Outer Worlds Gameplay Trailer \\n508 Bleedi...       en  \n",
       "1       John Wick survives all the way to 2077 Legit       en  \n",
       "2        so basically we should look forward to 2020       en  \n",
       "3                 Yet again Cyberpunk stole the show       en  \n",
       "4  By 2077 Keanu would be over 110 years old and ...       en  "
      ]
     },
     "execution_count": 78,
     "metadata": {},
     "output_type": "execute_result"
    }
   ],
   "source": [
    "print(df.shape)\n",
    "df.head()\n"
   ]
  },
  {
   "cell_type": "code",
   "execution_count": 79,
   "metadata": {},
   "outputs": [
    {
     "data": {
      "text/plain": [
       "(745, 6)"
      ]
     },
     "execution_count": 79,
     "metadata": {},
     "output_type": "execute_result"
    }
   ],
   "source": [
    "df2 = df[df['Language']=='en']\n",
    "df2.shape"
   ]
  },
  {
   "cell_type": "markdown",
   "metadata": {},
   "source": [
    "### Wordcloud"
   ]
  },
  {
   "cell_type": "code",
   "execution_count": 45,
   "metadata": {},
   "outputs": [
    {
     "data": {
      "image/png": "[encoded data removed]",
      "text/plain": [
       "<PIL.Image.Image image mode=RGB size=400x200 at 0x7F8CD09F98D0>"
      ]
     },
     "execution_count": 45,
     "metadata": {},
     "output_type": "execute_result"
    }
   ],
   "source": [
    "from wordcloud import WordCloud\n",
    "\n",
    "# Join the different processed titles together.\n",
    "long_string = ','.join(list(df2['Cleaned_Comment'].values))\n",
    "\n",
    "wordcloud = WordCloud(background_color=\"white\", \n",
    "                      max_words=10000,\n",
    "                      contour_width=3, \n",
    "                      contour_color='steelblue')\n",
    "wordcloud.generate(long_string)\n",
    "wordcloud.to_image()"
   ]
  },
  {
   "cell_type": "code",
   "execution_count": 46,
   "metadata": {},
   "outputs": [
    {
     "name": "stderr",
     "output_type": "stream",
     "text": [
      "[nltk_data] Downloading package vader_lexicon to\n",
      "[nltk_data]     /Users/himanshumishra/nltk_data...\n",
      "[nltk_data]   Package vader_lexicon is already up-to-date!\n"
     ]
    },
    {
     "data": {
      "text/plain": [
       "True"
      ]
     },
     "execution_count": 46,
     "metadata": {},
     "output_type": "execute_result"
    }
   ],
   "source": [
    "from itertools import islice\n",
    "import nltk\n",
    "import re\n",
    "from textblob import Blobber\n",
    "from nltk.sentiment.vader import SentimentIntensityAnalyzer\n",
    "sid = SentimentIntensityAnalyzer()\n",
    "nltk.download('vader_lexicon')"
   ]
  },
  {
   "cell_type": "code",
   "execution_count": 47,
   "metadata": {},
   "outputs": [],
   "source": [
    "def get_vader_score(comment):\n",
    "    text = str(comment)\n",
    "    # Remove special characters except ‘\n",
    "    text = re.sub(\"[^\\w\\d’\\s]+\", '', text)\n",
    "    # Convert to lowercase\n",
    "    text_lower = text.lower()\n",
    "    # Polarity score returns dictionary and we fetch only the compound score\n",
    "    compound_score = sid.polarity_scores(text_lower)['compound']\n",
    "    return(compound_score)"
   ]
  },
  {
   "cell_type": "code",
   "execution_count": 48,
   "metadata": {},
   "outputs": [],
   "source": [
    "COLS = ['Comment ID', 'Cleaned_Comment', 'Vader_Score']\n",
    "df3 = pd.DataFrame(columns=COLS)\n",
    "\n",
    "for index, row in islice(df.iterrows(), 0, None):\n",
    "    new_entry = []\n",
    "    Cleaned_Comment = str(row['Cleaned_Comment'])\n",
    "    Vader_Score = get_vader_score(Cleaned_Comment)\n",
    "    new_entry += [row['Comment ID'], Cleaned_Comment, Vader_Score]\n",
    "    single_survey_sentimet_df = pd.DataFrame([new_entry],   columns=COLS)\n",
    "    df3 = df3.append(single_survey_sentimet_df, ignore_index=True)"
   ]
  },
  {
   "cell_type": "code",
   "execution_count": 106,
   "metadata": {},
   "outputs": [
    {
     "data": {
      "text/html": [
       "<div>\n",
       "<style scoped>\n",
       "    .dataframe tbody tr th:only-of-type {\n",
       "        vertical-align: middle;\n",
       "    }\n",
       "\n",
       "    .dataframe tbody tr th {\n",
       "        vertical-align: top;\n",
       "    }\n",
       "\n",
       "    .dataframe thead th {\n",
       "        text-align: right;\n",
       "    }\n",
       "</style>\n",
       "<table border=\"1\" class=\"dataframe\">\n",
       "  <thead>\n",
       "    <tr style=\"text-align: right;\">\n",
       "      <th></th>\n",
       "      <th>Comment ID</th>\n",
       "      <th>Cleaned_Comment</th>\n",
       "      <th>Vader_Score</th>\n",
       "    </tr>\n",
       "  </thead>\n",
       "  <tbody>\n",
       "    <tr>\n",
       "      <th>0</th>\n",
       "      <td>UgyolGA3btmyXsv1yPF4AaABAg</td>\n",
       "      <td>117 Outer Worlds Gameplay Trailer \\n508 Bleedi...</td>\n",
       "      <td>-0.6908</td>\n",
       "    </tr>\n",
       "    <tr>\n",
       "      <th>1</th>\n",
       "      <td>UgyI1VT_X38sdK5WxH94AaABAg</td>\n",
       "      <td>John Wick survives all the way to 2077 Legit</td>\n",
       "      <td>0.0000</td>\n",
       "    </tr>\n",
       "    <tr>\n",
       "      <th>2</th>\n",
       "      <td>Ugz9XWu6VeIopjZvM7h4AaABAg</td>\n",
       "      <td>so basically we should look forward to 2020</td>\n",
       "      <td>0.0000</td>\n",
       "    </tr>\n",
       "    <tr>\n",
       "      <th>3</th>\n",
       "      <td>UgzcLn8Q_NaPDOgESnV4AaABAg</td>\n",
       "      <td>Yet again Cyberpunk stole the show</td>\n",
       "      <td>0.0000</td>\n",
       "    </tr>\n",
       "    <tr>\n",
       "      <th>4</th>\n",
       "      <td>UgyY2EO51cu41wWCG0V4AaABAg</td>\n",
       "      <td>By 2077 Keanu would be over 110 years old and ...</td>\n",
       "      <td>0.5829</td>\n",
       "    </tr>\n",
       "    <tr>\n",
       "      <th>...</th>\n",
       "      <td>...</td>\n",
       "      <td>...</td>\n",
       "      <td>...</td>\n",
       "    </tr>\n",
       "    <tr>\n",
       "      <th>880</th>\n",
       "      <td>UgzvqN1_RO8l8a47R4V4AaABAg</td>\n",
       "      <td>So does no one realize that every game that th...</td>\n",
       "      <td>0.2551</td>\n",
       "    </tr>\n",
       "    <tr>\n",
       "      <th>881</th>\n",
       "      <td>UgxpYV4pB_dxIdYUTaV4AaABAg</td>\n",
       "      <td>I give it a 9 out of 10</td>\n",
       "      <td>0.0000</td>\n",
       "    </tr>\n",
       "    <tr>\n",
       "      <th>882</th>\n",
       "      <td>Ugy8xZ5-vPAuTR2Wzah4AaABAg</td>\n",
       "      <td>Only reason cyberpunk is gonna sell is because...</td>\n",
       "      <td>0.0000</td>\n",
       "    </tr>\n",
       "    <tr>\n",
       "      <th>883</th>\n",
       "      <td>UgzI2Qi4lvwgc7fTTfF4AaABAg</td>\n",
       "      <td>Why are people being ungrateful</td>\n",
       "      <td>-0.4588</td>\n",
       "    </tr>\n",
       "    <tr>\n",
       "      <th>884</th>\n",
       "      <td>UgzItyIaLPqs1E8Rn3h4AaABAg</td>\n",
       "      <td>Wow I didn’t expect so much negative comments ...</td>\n",
       "      <td>0.6728</td>\n",
       "    </tr>\n",
       "  </tbody>\n",
       "</table>\n",
       "<p>885 rows × 3 columns</p>\n",
       "</div>"
      ],
      "text/plain": [
       "                     Comment ID  \\\n",
       "0    UgyolGA3btmyXsv1yPF4AaABAg   \n",
       "1    UgyI1VT_X38sdK5WxH94AaABAg   \n",
       "2    Ugz9XWu6VeIopjZvM7h4AaABAg   \n",
       "3    UgzcLn8Q_NaPDOgESnV4AaABAg   \n",
       "4    UgyY2EO51cu41wWCG0V4AaABAg   \n",
       "..                          ...   \n",
       "880  UgzvqN1_RO8l8a47R4V4AaABAg   \n",
       "881  UgxpYV4pB_dxIdYUTaV4AaABAg   \n",
       "882  Ugy8xZ5-vPAuTR2Wzah4AaABAg   \n",
       "883  UgzI2Qi4lvwgc7fTTfF4AaABAg   \n",
       "884  UgzItyIaLPqs1E8Rn3h4AaABAg   \n",
       "\n",
       "                                       Cleaned_Comment  Vader_Score  \n",
       "0    117 Outer Worlds Gameplay Trailer \\n508 Bleedi...      -0.6908  \n",
       "1         John Wick survives all the way to 2077 Legit       0.0000  \n",
       "2          so basically we should look forward to 2020       0.0000  \n",
       "3                   Yet again Cyberpunk stole the show       0.0000  \n",
       "4    By 2077 Keanu would be over 110 years old and ...       0.5829  \n",
       "..                                                 ...          ...  \n",
       "880  So does no one realize that every game that th...       0.2551  \n",
       "881                            I give it a 9 out of 10       0.0000  \n",
       "882  Only reason cyberpunk is gonna sell is because...       0.0000  \n",
       "883                    Why are people being ungrateful      -0.4588  \n",
       "884  Wow I didn’t expect so much negative comments ...       0.6728  \n",
       "\n",
       "[885 rows x 3 columns]"
      ]
     },
     "execution_count": 106,
     "metadata": {},
     "output_type": "execute_result"
    }
   ],
   "source": [
    "df3.to_csv('cleaned_data.csv', index = False)\n",
    "df3"
   ]
  },
  {
   "cell_type": "code",
   "execution_count": 50,
   "metadata": {},
   "outputs": [],
   "source": [
    "import matplotlib.pyplot as plt"
   ]
  },
  {
   "cell_type": "code",
   "execution_count": 51,
   "metadata": {},
   "outputs": [
    {
     "data": {
      "image/png": "[encoded data removed]",
      "text/plain": [
       "<Figure size 720x504 with 1 Axes>"
      ]
     },
     "metadata": {
      "needs_background": "light"
     },
     "output_type": "display_data"
    }
   ],
   "source": [
    "fig, ax = plt.subplots(figsize =(10, 7)) \n",
    "ax.hist(df3['Vader_Score'], bins = [-1, -0.5, -0.25, 0, 0.25, 0.5, 1]) \n",
    "  \n",
    "# Show plot \n",
    "plt.show()"
   ]
  },
  {
   "cell_type": "code",
   "execution_count": 52,
   "metadata": {},
   "outputs": [
    {
     "data": {
      "image/png": "[encoded data removed]",
      "text/plain": [
       "<Figure size 1080x667.491 with 1 Axes>"
      ]
     },
     "metadata": {
      "needs_background": "light"
     },
     "output_type": "display_data"
    }
   ],
   "source": [
    "# Load the library with the CountVectorizer method\n",
    "from sklearn.feature_extraction.text import CountVectorizer\n",
    "import numpy as np\n",
    "import matplotlib.pyplot as plt\n",
    "import seaborn as sns\n",
    "sns.set_style('whitegrid')\n",
    "%matplotlib inline\n",
    "# Helper function\n",
    "def plot_10_most_common_words(count_data, count_vectorizer):\n",
    "    import matplotlib.pyplot as plt\n",
    "    words = count_vectorizer.get_feature_names()\n",
    "    total_counts = np.zeros(len(words))\n",
    "    for t in count_data:\n",
    "        total_counts+=t.toarray()[0]\n",
    "    \n",
    "    count_dict = (zip(words, total_counts))\n",
    "    count_dict = sorted(count_dict, key=lambda x:x[1], reverse=True)[0:10]\n",
    "    words = [w[0] for w in count_dict]\n",
    "    counts = [w[1] for w in count_dict]\n",
    "    x_pos = np.arange(len(words)) \n",
    "    \n",
    "    plt.figure(2, figsize=(15, 15/1.6180))\n",
    "    plt.subplot(title='10 most common words')\n",
    "    sns.set_context(\"notebook\", font_scale=1.25, rc={\"lines.linewidth\": 2.5})\n",
    "    sns.barplot(x_pos, counts, palette='husl')\n",
    "    plt.xticks(x_pos, words, rotation=90) \n",
    "    plt.xlabel('words')\n",
    "    plt.ylabel('counts')\n",
    "    plt.show()\n",
    "# Initialise the count vectorizer with the English stop words\n",
    "count_vectorizer = CountVectorizer(stop_words='english')\n",
    "# Fit and transform the processed titles\n",
    "count_data = count_vectorizer.fit_transform(df3['Cleaned_Comment'])\n",
    "# Visualise the 10 most common words\n",
    "plot_10_most_common_words(count_data, count_vectorizer)"
   ]
  },
  {
   "cell_type": "code",
   "execution_count": 54,
   "metadata": {},
   "outputs": [
    {
     "name": "stdout",
     "output_type": "stream",
     "text": [
      "Topics found via LDA:\n",
      "\n",
      "Topic #0:\n",
      "xbox trailer games new console pc good game gears gameplay\n",
      "\n",
      "Topic #1:\n",
      "like halo games just new looking does gameplay better gears\n",
      "\n",
      "Topic #2:\n",
      "game keanu halo just games star know xbox like reeves\n",
      "\n",
      "Topic #3:\n",
      "xbox games song halo e3 im exclusives love keanu exclusive\n",
      "\n",
      "Topic #4:\n",
      "ssd solid state drive combination looks keanu breathtaking thing said\n",
      "\n",
      "Topic #5:\n",
      "games wait 2077 keanu good like game microsoft did cyberpunk\n",
      "\n",
      "Topic #6:\n",
      "games cyberpunk e3 just game xbox lol like amazing microsoft\n",
      "\n",
      "Topic #7:\n",
      "like new looks witch blair game games im fable keanu\n",
      "\n",
      "Topic #8:\n",
      "john wick e3 trailers gameplay time sony disappointment ring elden\n",
      "\n",
      "Topic #9:\n",
      "xbox e3 sony year microsoft like conference game just thing\n"
     ]
    }
   ],
   "source": [
    "import warnings\n",
    "warnings.simplefilter(\"ignore\", DeprecationWarning)\n",
    "# Load the LDA model from sk-learn\n",
    "from sklearn.decomposition import LatentDirichletAllocation as LDA\n",
    " \n",
    "# Helper function\n",
    "def print_topics(model, count_vectorizer, n_top_words):\n",
    "    words = count_vectorizer.get_feature_names()\n",
    "    for topic_idx, topic in enumerate(model.components_):\n",
    "        print(\"\\nTopic #%d:\" % topic_idx)\n",
    "        print(\" \".join([words[i]\n",
    "                        for i in topic.argsort()[:-n_top_words - 1:-1]]))\n",
    "        \n",
    "# Tweak the two parameters below\n",
    "number_topics = 10\n",
    "number_words = 10\n",
    "# Create and fit the LDA model\n",
    "lda = LDA(n_components=number_topics, n_jobs=-1)\n",
    "lda.fit(count_data)\n",
    "# Print the topics found by the LDA model\n",
    "print(\"Topics found via LDA:\")\n",
    "print_topics(lda, count_vectorizer, number_words)"
   ]
  },
  {
   "cell_type": "code",
   "execution_count": null,
   "metadata": {},
   "outputs": [],
   "source": []
  }
 ],
 "metadata": {
  "kernelspec": {
   "display_name": "Python 3",
   "language": "python",
   "name": "python3"
  },
  "language_info": {
   "codemirror_mode": {
    "name": "ipython",
    "version": 3
   },
   "file_extension": ".py",
   "mimetype": "text/x-python",
   "name": "python",
   "nbconvert_exporter": "python",
   "pygments_lexer": "ipython3",
   "version": "3.6.9"
  }
 },
 "nbformat": 4,
 "nbformat_minor": 4
}
