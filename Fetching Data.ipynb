{
 "cells": [
  {
   "cell_type": "code",
   "execution_count": 8,
   "metadata": {},
   "outputs": [],
   "source": [
    "#pip install google-api-python-client\n",
    "#pip install google-auth google-auth-oauthlib google-auth-httplib2\n",
    "#pip install demoji\n",
    "#pip install pandas\n",
    "#pip install langdetect"
   ]
  },
  {
   "cell_type": "code",
   "execution_count": 1,
   "metadata": {},
   "outputs": [],
   "source": [
    "from googleapiclient.discovery import build\n",
    "from google_auth_oauthlib.flow import InstalledAppFlow\n",
    "import pandas as pd\n",
    "import demoji\n",
    "from langdetect import detect\n",
    "import re\n",
    "import os"
   ]
  },
  {
   "cell_type": "markdown",
   "metadata": {},
   "source": [
    "### Restrict Access and set YouTube Parameters"
   ]
  },
  {
   "cell_type": "code",
   "execution_count": 2,
   "metadata": {},
   "outputs": [],
   "source": [
    "CLIENT_SECRETS_FILE = \"client_secret.json\"\n",
    "\n",
    "SCOPES = ['https://www.googleapis.com/auth/youtube.force-ssl']\n",
    "API_SERVICE_NAME = 'youtube'\n",
    "API_VERSION = 'v3'"
   ]
  },
  {
   "cell_type": "markdown",
   "metadata": {},
   "source": [
    "### Build the service and get the access token"
   ]
  },
  {
   "cell_type": "code",
   "execution_count": 3,
   "metadata": {},
   "outputs": [
    {
     "name": "stdout",
     "output_type": "stream",
     "text": [
      "Please visit this URL to authorize this application: https://accounts.google.com/o/oauth2/auth?response_type=code&client_id=124038159274-bpvr7vijqn3bf9psatbu7f801qrdem3c.apps.googleusercontent.com&redirect_uri=urn%3Aietf%3Awg%3Aoauth%3A2.0%3Aoob&scope=https%3A%2F%2Fwww.googleapis.com%2Fauth%2Fyoutube.force-ssl&state=k1TMxG9UASdQIQ8jKMLuLiWvgnXCmf&prompt=consent&access_type=offline\n",
      "Enter the authorization code: 4/1AY0e-g5AraOK250_SY3htbUXQoxSoLIhtDwnjRCbMCE8N8wyIuNyyCAsO0U\n"
     ]
    }
   ],
   "source": [
    "def get_authenticated_service():\n",
    "    flow = InstalledAppFlow.from_client_secrets_file(CLIENT_SECRETS_FILE, SCOPES)\n",
    "    credentials = flow.run_console()\n",
    "    return build(API_SERVICE_NAME, API_VERSION, credentials = credentials)\n",
    "\n",
    "os.environ['OAUTHLIB_INSECURE_TRANSPORT'] = '1'\n",
    "service = get_authenticated_service()\n"
   ]
  },
  {
   "cell_type": "markdown",
   "metadata": {},
   "source": [
    "### Perform YouTube Search on query"
   ]
  },
  {
   "cell_type": "code",
   "execution_count": 4,
   "metadata": {},
   "outputs": [],
   "source": [
    "query = \"FULL Microsoft Xbox E3 2019 Press Conference\"\n",
    "\n",
    "query_results = service.search().list(part = 'snippet', q= query,\n",
    "                                     order = 'relevance',\n",
    "                                     type = 'video',\n",
    "                                     relevanceLanguage = 'en',\n",
    "                                     safeSearch = 'moderate',).execute()"
   ]
  },
  {
   "cell_type": "code",
   "execution_count": 5,
   "metadata": {},
   "outputs": [
    {
     "data": {
      "text/plain": [
       "[{'kind': 'youtube#searchResult',\n",
       "  'etag': 'nhdVA3fAQ9GfUge5Z5XNDRAHRfM',\n",
       "  'id': {'kind': 'youtube#video', 'videoId': '73kSvsQ_kkA'},\n",
       "  'snippet': {'publishedAt': '2019-06-09T21:48:12Z',\n",
       "   'channelId': 'UCbu2SsF-Or3Rsn3NxqODImw',\n",
       "   'title': 'FULL Microsoft Xbox E3 2019 Press Conference',\n",
       "   'description': 'Tune in to catch Phil Spencer and the Microsoft team talk about all their latest game reveals, trailers, hardware reveals, and more at E3 2019. For even more ...',\n",
       "   'thumbnails': {'default': {'url': 'https://i.ytimg.com/vi/73kSvsQ_kkA/default.jpg',\n",
       "     'width': 120,\n",
       "     'height': 90},\n",
       "    'medium': {'url': 'https://i.ytimg.com/vi/73kSvsQ_kkA/mqdefault.jpg',\n",
       "     'width': 320,\n",
       "     'height': 180},\n",
       "    'high': {'url': 'https://i.ytimg.com/vi/73kSvsQ_kkA/hqdefault.jpg',\n",
       "     'width': 480,\n",
       "     'height': 360}},\n",
       "   'channelTitle': 'GameSpot',\n",
       "   'liveBroadcastContent': 'none',\n",
       "   'publishTime': '2019-06-09T21:48:12Z'}},\n",
       " {'kind': 'youtube#searchResult',\n",
       "  'etag': 'mTlllIGdm3sYo7Q6N2WpE8-x83s',\n",
       "  'id': {'kind': 'youtube#video', 'videoId': 'zeYQ-kPF0iQ'},\n",
       "  'snippet': {'publishedAt': '2019-06-09T21:51:14Z',\n",
       "   'channelId': 'UCjBp_7RuDBUYbd1LegWEJ8g',\n",
       "   'title': 'Xbox E3 Briefing 2019',\n",
       "   'description': 'Start - 25:46 Join us at the E3 Briefing for: World premieres New game reveals Big surprises And MORE!',\n",
       "   'thumbnails': {'default': {'url': 'https://i.ytimg.com/vi/zeYQ-kPF0iQ/default.jpg',\n",
       "     'width': 120,\n",
       "     'height': 90},\n",
       "    'medium': {'url': 'https://i.ytimg.com/vi/zeYQ-kPF0iQ/mqdefault.jpg',\n",
       "     'width': 320,\n",
       "     'height': 180},\n",
       "    'high': {'url': 'https://i.ytimg.com/vi/zeYQ-kPF0iQ/hqdefault.jpg',\n",
       "     'width': 480,\n",
       "     'height': 360}},\n",
       "   'channelTitle': 'Xbox',\n",
       "   'liveBroadcastContent': 'none',\n",
       "   'publishTime': '2019-06-09T21:51:14Z'}},\n",
       " {'kind': 'youtube#searchResult',\n",
       "  'etag': '9cDJOSV0u9X19B0icOkcBTObNjw',\n",
       "  'id': {'kind': 'youtube#video', 'videoId': '57gHewiWml0'},\n",
       "  'snippet': {'publishedAt': '2019-06-10T16:52:17Z',\n",
       "   'channelId': 'UCLUmRMVxQyveX8F0Qr23Dew',\n",
       "   'title': 'Microsoft Xbox E3 2019 Press Conference Reaction (FULL)',\n",
       "   'description': \"In this episode of Conference Room, the team reacts to the full Microsoft Xbox E3 2019 press conference. What did you think of Microsoft's presentation for E3 ...\",\n",
       "   'thumbnails': {'default': {'url': 'https://i.ytimg.com/vi/57gHewiWml0/default.jpg',\n",
       "     'width': 120,\n",
       "     'height': 90},\n",
       "    'medium': {'url': 'https://i.ytimg.com/vi/57gHewiWml0/mqdefault.jpg',\n",
       "     'width': 320,\n",
       "     'height': 180},\n",
       "    'high': {'url': 'https://i.ytimg.com/vi/57gHewiWml0/hqdefault.jpg',\n",
       "     'width': 480,\n",
       "     'height': 360}},\n",
       "   'channelTitle': 'The Gaming Résumé',\n",
       "   'liveBroadcastContent': 'none',\n",
       "   'publishTime': '2019-06-10T16:52:17Z'}},\n",
       " {'kind': 'youtube#searchResult',\n",
       "  'etag': 'piu2DSnoJkG-d0RbfVVAwceHN1M',\n",
       "  'id': {'kind': 'youtube#video', 'videoId': 'E6GAxUVs37c'},\n",
       "  'snippet': {'publishedAt': '2018-06-10T22:25:58Z',\n",
       "   'channelId': 'UCbu2SsF-Or3Rsn3NxqODImw',\n",
       "   'title': 'FULL Microsoft Xbox E3 2018 Press Conference',\n",
       "   'description': 'Microsoft unveils their biggest news, games, trailers, and more at their Xbox 2018 E3 press conference.',\n",
       "   'thumbnails': {'default': {'url': 'https://i.ytimg.com/vi/E6GAxUVs37c/default.jpg',\n",
       "     'width': 120,\n",
       "     'height': 90},\n",
       "    'medium': {'url': 'https://i.ytimg.com/vi/E6GAxUVs37c/mqdefault.jpg',\n",
       "     'width': 320,\n",
       "     'height': 180},\n",
       "    'high': {'url': 'https://i.ytimg.com/vi/E6GAxUVs37c/hqdefault.jpg',\n",
       "     'width': 480,\n",
       "     'height': 360}},\n",
       "   'channelTitle': 'GameSpot',\n",
       "   'liveBroadcastContent': 'none',\n",
       "   'publishTime': '2018-06-10T22:25:58Z'}},\n",
       " {'kind': 'youtube#searchResult',\n",
       "  'etag': 'sLGI285n3fK7f37NA5fD63fd4FA',\n",
       "  'id': {'kind': 'youtube#video', 'videoId': '_pG-unqW_a8'},\n",
       "  'snippet': {'publishedAt': '2019-06-09T22:32:57Z',\n",
       "   'channelId': 'UCT6iAerLNE-0J1S_E97UAuQ',\n",
       "   'title': 'Microsoft Xbox E3 2019 Conference Live with YongYea',\n",
       "   'description': 'http://www.patreon.com/yongyea http://www.paypal.me/YongYea http://www.twitter.com/yongyea TOP PATRONS [CIPHER] - Thelionsam [BIG BOSS] ...',\n",
       "   'thumbnails': {'default': {'url': 'https://i.ytimg.com/vi/_pG-unqW_a8/default.jpg',\n",
       "     'width': 120,\n",
       "     'height': 90},\n",
       "    'medium': {'url': 'https://i.ytimg.com/vi/_pG-unqW_a8/mqdefault.jpg',\n",
       "     'width': 320,\n",
       "     'height': 180},\n",
       "    'high': {'url': 'https://i.ytimg.com/vi/_pG-unqW_a8/hqdefault.jpg',\n",
       "     'width': 480,\n",
       "     'height': 360}},\n",
       "   'channelTitle': 'YongYea',\n",
       "   'liveBroadcastContent': 'none',\n",
       "   'publishTime': '2019-06-09T22:32:57Z'}}]"
      ]
     },
     "execution_count": 5,
     "metadata": {},
     "output_type": "execute_result"
    }
   ],
   "source": [
    "query_results['items']"
   ]
  },
  {
   "cell_type": "markdown",
   "metadata": {},
   "source": [
    "### Extract Video Details- videoId, channel Id, title, description"
   ]
  },
  {
   "cell_type": "code",
   "execution_count": 6,
   "metadata": {},
   "outputs": [],
   "source": [
    "video_id = []\n",
    "channel = []\n",
    "video_title = []\n",
    "video_desc = []\n",
    "for item in query_results['items']:\n",
    "    video_id.append(item['id']['videoId'])\n",
    "    channel.append(item['snippet']['channelTitle'])\n",
    "    video_title.append(item['snippet']['title'])\n",
    "    video_desc.append(item['snippet']['description'])\n",
    "    \n",
    "# we only wants to work with one video so selecting only first element\n",
    "\n",
    "video_id = video_id[0]\n",
    "channel = channel[0]\n",
    "video_title = video_title[0]\n",
    "video_desc = video_desc[0]\n"
   ]
  },
  {
   "cell_type": "markdown",
   "metadata": {},
   "source": [
    "### Extract Video details - comments "
   ]
  },
  {
   "cell_type": "code",
   "execution_count": 7,
   "metadata": {},
   "outputs": [],
   "source": [
    "video_id_pop = []\n",
    "channel_pop = []\n",
    "video_title_pop = []\n",
    "video_desc_pop = []\n",
    "comments_pop = []\n",
    "comment_id_pop = []\n",
    "reply_count_pop = []\n",
    "like_count_pop = []\n",
    "\n",
    "comments_temp = []\n",
    "comment_id_temp = []\n",
    "reply_count_temp = []\n",
    "like_count_temp = []"
   ]
  },
  {
   "cell_type": "code",
   "execution_count": 8,
   "metadata": {},
   "outputs": [],
   "source": [
    "nextPage_token = None\n",
    "\n",
    "while 1:\n",
    "    response = service.commentThreads().list(\n",
    "        part  = 'snippet',\n",
    "        videoId = video_id,\n",
    "        maxResults = 100,\n",
    "        order = 'relevance',\n",
    "        textFormat = 'plainText',\n",
    "        pageToken = nextPage_token\n",
    "        ).execute()\n",
    "\n",
    "    \n",
    "    nextPage_token = response.get('nextPageToken')\n",
    "    for item in response['items']:\n",
    "        comments_temp.append(item['snippet']['topLevelComment']['snippet']['textDisplay'])\n",
    "        comment_id_temp.append(item['snippet']['topLevelComment']['id'])\n",
    "        reply_count_temp.append(item['snippet']['totalReplyCount'])\n",
    "        like_count_temp.append(item['snippet']['topLevelComment']['snippet']['likeCount'])\n",
    "        comments_pop.extend(comments_temp)\n",
    "        comment_id_pop.extend(comment_id_temp)\n",
    "        reply_count_pop.extend(reply_count_temp)\n",
    "        like_count_pop.extend(like_count_temp)\n",
    "        \n",
    "        video_id_pop.extend([video_id]*len(comments_temp))\n",
    "        channel_pop.extend([channel]*len(comments_temp))\n",
    "        video_title_pop.extend([video_title]*len(comments_temp))\n",
    "        video_desc_pop.extend([video_desc]*len(comments_temp))\n",
    "        \n",
    "    if nextPage_token is None:\n",
    "        break"
   ]
  },
  {
   "cell_type": "code",
   "execution_count": 9,
   "metadata": {},
   "outputs": [],
   "source": [
    "output_dict = {\n",
    "        'Channel': channel_pop,\n",
    "        'Video Title': video_title_pop,\n",
    "        'Video Description': video_desc_pop,\n",
    "        'Video ID': video_id_pop,\n",
    "        'Comment': comments_pop,\n",
    "        'Comment ID': comment_id_pop,\n",
    "        'Replies': reply_count_pop,\n",
    "        'Likes': like_count_pop\n",
    "        \n",
    "    }\n",
    "    \n",
    "output_df = pd.DataFrame(output_dict, columns = output_dict.keys())\n",
    "    "
   ]
  },
  {
   "cell_type": "code",
   "execution_count": 10,
   "metadata": {},
   "outputs": [
    {
     "data": {
      "text/html": [
       "<div>\n",
       "<style scoped>\n",
       "    .dataframe tbody tr th:only-of-type {\n",
       "        vertical-align: middle;\n",
       "    }\n",
       "\n",
       "    .dataframe tbody tr th {\n",
       "        vertical-align: top;\n",
       "    }\n",
       "\n",
       "    .dataframe thead th {\n",
       "        text-align: right;\n",
       "    }\n",
       "</style>\n",
       "<table border=\"1\" class=\"dataframe\">\n",
       "  <thead>\n",
       "    <tr style=\"text-align: right;\">\n",
       "      <th></th>\n",
       "      <th>Channel</th>\n",
       "      <th>Video Title</th>\n",
       "      <th>Video Description</th>\n",
       "      <th>Video ID</th>\n",
       "      <th>Comment</th>\n",
       "      <th>Comment ID</th>\n",
       "      <th>Replies</th>\n",
       "      <th>Likes</th>\n",
       "    </tr>\n",
       "  </thead>\n",
       "  <tbody>\n",
       "    <tr>\n",
       "      <th>0</th>\n",
       "      <td>GameSpot</td>\n",
       "      <td>FULL Microsoft Xbox E3 2019 Press Conference</td>\n",
       "      <td>Tune in to catch Phil Spencer and the Microsof...</td>\n",
       "      <td>73kSvsQ_kkA</td>\n",
       "      <td>1:17 Outer Worlds (Gameplay Trailer )\\n5:08 Bl...</td>\n",
       "      <td>UgyolGA3btmyXsv1yPF4AaABAg</td>\n",
       "      <td>45</td>\n",
       "      <td>1186</td>\n",
       "    </tr>\n",
       "    <tr>\n",
       "      <th>1</th>\n",
       "      <td>GameSpot</td>\n",
       "      <td>FULL Microsoft Xbox E3 2019 Press Conference</td>\n",
       "      <td>Tune in to catch Phil Spencer and the Microsof...</td>\n",
       "      <td>73kSvsQ_kkA</td>\n",
       "      <td>1:17 Outer Worlds (Gameplay Trailer )\\n5:08 Bl...</td>\n",
       "      <td>UgyolGA3btmyXsv1yPF4AaABAg</td>\n",
       "      <td>45</td>\n",
       "      <td>1186</td>\n",
       "    </tr>\n",
       "    <tr>\n",
       "      <th>2</th>\n",
       "      <td>GameSpot</td>\n",
       "      <td>FULL Microsoft Xbox E3 2019 Press Conference</td>\n",
       "      <td>Tune in to catch Phil Spencer and the Microsof...</td>\n",
       "      <td>73kSvsQ_kkA</td>\n",
       "      <td>John Wick survives all the way to 2077. Legit.</td>\n",
       "      <td>UgyI1VT_X38sdK5WxH94AaABAg</td>\n",
       "      <td>13</td>\n",
       "      <td>1599</td>\n",
       "    </tr>\n",
       "    <tr>\n",
       "      <th>3</th>\n",
       "      <td>GameSpot</td>\n",
       "      <td>FULL Microsoft Xbox E3 2019 Press Conference</td>\n",
       "      <td>Tune in to catch Phil Spencer and the Microsof...</td>\n",
       "      <td>73kSvsQ_kkA</td>\n",
       "      <td>1:17 Outer Worlds (Gameplay Trailer )\\n5:08 Bl...</td>\n",
       "      <td>UgyolGA3btmyXsv1yPF4AaABAg</td>\n",
       "      <td>45</td>\n",
       "      <td>1186</td>\n",
       "    </tr>\n",
       "    <tr>\n",
       "      <th>4</th>\n",
       "      <td>GameSpot</td>\n",
       "      <td>FULL Microsoft Xbox E3 2019 Press Conference</td>\n",
       "      <td>Tune in to catch Phil Spencer and the Microsof...</td>\n",
       "      <td>73kSvsQ_kkA</td>\n",
       "      <td>John Wick survives all the way to 2077. Legit.</td>\n",
       "      <td>UgyI1VT_X38sdK5WxH94AaABAg</td>\n",
       "      <td>13</td>\n",
       "      <td>1599</td>\n",
       "    </tr>\n",
       "  </tbody>\n",
       "</table>\n",
       "</div>"
      ],
      "text/plain": [
       "    Channel                                   Video Title  \\\n",
       "0  GameSpot  FULL Microsoft Xbox E3 2019 Press Conference   \n",
       "1  GameSpot  FULL Microsoft Xbox E3 2019 Press Conference   \n",
       "2  GameSpot  FULL Microsoft Xbox E3 2019 Press Conference   \n",
       "3  GameSpot  FULL Microsoft Xbox E3 2019 Press Conference   \n",
       "4  GameSpot  FULL Microsoft Xbox E3 2019 Press Conference   \n",
       "\n",
       "                                   Video Description     Video ID  \\\n",
       "0  Tune in to catch Phil Spencer and the Microsof...  73kSvsQ_kkA   \n",
       "1  Tune in to catch Phil Spencer and the Microsof...  73kSvsQ_kkA   \n",
       "2  Tune in to catch Phil Spencer and the Microsof...  73kSvsQ_kkA   \n",
       "3  Tune in to catch Phil Spencer and the Microsof...  73kSvsQ_kkA   \n",
       "4  Tune in to catch Phil Spencer and the Microsof...  73kSvsQ_kkA   \n",
       "\n",
       "                                             Comment  \\\n",
       "0  1:17 Outer Worlds (Gameplay Trailer )\\n5:08 Bl...   \n",
       "1  1:17 Outer Worlds (Gameplay Trailer )\\n5:08 Bl...   \n",
       "2     John Wick survives all the way to 2077. Legit.   \n",
       "3  1:17 Outer Worlds (Gameplay Trailer )\\n5:08 Bl...   \n",
       "4     John Wick survives all the way to 2077. Legit.   \n",
       "\n",
       "                   Comment ID  Replies  Likes  \n",
       "0  UgyolGA3btmyXsv1yPF4AaABAg       45   1186  \n",
       "1  UgyolGA3btmyXsv1yPF4AaABAg       45   1186  \n",
       "2  UgyI1VT_X38sdK5WxH94AaABAg       13   1599  \n",
       "3  UgyolGA3btmyXsv1yPF4AaABAg       45   1186  \n",
       "4  UgyI1VT_X38sdK5WxH94AaABAg       13   1599  "
      ]
     },
     "execution_count": 10,
     "metadata": {},
     "output_type": "execute_result"
    }
   ],
   "source": [
    "output_df.head()"
   ]
  },
  {
   "cell_type": "code",
   "execution_count": 11,
   "metadata": {},
   "outputs": [
    {
     "data": {
      "text/plain": [
       "(397386, 8)"
      ]
     },
     "execution_count": 11,
     "metadata": {},
     "output_type": "execute_result"
    }
   ],
   "source": [
    "output_df.shape"
   ]
  },
  {
   "cell_type": "code",
   "execution_count": 12,
   "metadata": {},
   "outputs": [
    {
     "data": {
      "text/plain": [
       "396501"
      ]
     },
     "execution_count": 12,
     "metadata": {},
     "output_type": "execute_result"
    }
   ],
   "source": [
    "#checking duplicates\n",
    "duplicates = output_df[output_df.duplicated('Comment')]\n",
    "duplicates.shape[0]"
   ]
  },
  {
   "cell_type": "code",
   "execution_count": 13,
   "metadata": {},
   "outputs": [
    {
     "data": {
      "text/plain": [
       "(885, 8)"
      ]
     },
     "execution_count": 13,
     "metadata": {},
     "output_type": "execute_result"
    }
   ],
   "source": [
    "#remove duplicate\n",
    "df = output_df.drop_duplicates(subset=['Comment'])\n",
    "df.shape"
   ]
  },
  {
   "cell_type": "code",
   "execution_count": 14,
   "metadata": {},
   "outputs": [],
   "source": [
    "# Saving data to csv\n",
    "df.to_csv('data.csv', index = False)"
   ]
  },
  {
   "cell_type": "code",
   "execution_count": null,
   "metadata": {},
   "outputs": [],
   "source": []
  }
 ],
 "metadata": {
  "kernelspec": {
   "display_name": "Python 3",
   "language": "python",
   "name": "python3"
  },
  "language_info": {
   "codemirror_mode": {
    "name": "ipython",
    "version": 3
   },
   "file_extension": ".py",
   "mimetype": "text/x-python",
   "name": "python",
   "nbconvert_exporter": "python",
   "pygments_lexer": "ipython3",
   "version": "3.6.9"
  }
 },
 "nbformat": 4,
 "nbformat_minor": 4
}
